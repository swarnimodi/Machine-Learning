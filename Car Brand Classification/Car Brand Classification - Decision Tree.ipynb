{
 "cells": [
  {
   "cell_type": "code",
   "execution_count": 591,
   "metadata": {
    "scrolled": true
   },
   "outputs": [],
   "source": [
    "import pandas as pd, numpy as np, sklearn\n",
    "from sklearn.model_selection import train_test_split\n",
    "from sklearn.tree import DecisionTreeClassifier\n",
    "from sklearn.metrics import accuracy_score\n",
    "from sklearn import tree\n",
    "data = pd.read_csv('cars.csv', header=None,sep=',')\n",
    "x = data.values.tolist()\n",
    "del x[0]\n",
    "y = np.array([i[7] for i in x]).reshape(261,1)\n",
    "for i in x:\n",
    "    del i[7]\n",
    "for i in range(len(x)):\n",
    "    for j in range(len(x[0])):\n",
    "        if x[i][j] != ' ':\n",
    "            x[i][j] = float(x[i][j])\n",
    "m2=m4=n2=n4=0\n",
    "for i in x:\n",
    "    if i[2] != ' ':\n",
    "        m2 = m2 + i[2]\n",
    "        n2 = n2 + 1\n",
    "    if i[4] != ' ':\n",
    "        m4 = m4 + i[4]\n",
    "        n4 = n4 + 1\n",
    "m2 = m2/n2\n",
    "m4 = m4/n4\n",
    "for i in x:\n",
    "    if i[2] == ' ':\n",
    "        i[2] = m2\n",
    "    if i[4] == ' ':\n",
    "        i[4] = m4\n",
    "x = np.array(x).reshape(261,7)\n",
    "x_train,x_test,y_train,y_test = train_test_split(x,y,test_size = 0.25,random_state=11)"
   ]
  },
  {
   "cell_type": "code",
   "execution_count": 592,
   "metadata": {},
   "outputs": [
    {
     "name": "stdout",
     "output_type": "stream",
     "text": [
      "Accuracy is 87.87878787878788 \b%\n"
     ]
    }
   ],
   "source": [
    "clf_gini = DecisionTreeClassifier(criterion=\"gini\",random_state=11,\n",
    "                                  max_depth=None,min_samples_leaf=4)\n",
    "clf_gini.fit(x_train,y_train)\n",
    "DecisionTreeClassifier(class_weight=None,criterion='gini',max_depth=None,\n",
    "                       max_features=None,max_leaf_nodes=None,min_samples_leaf=4,\n",
    "                       min_samples_split=None,min_weight_fraction_leaf=0.0,\n",
    "                       presort=False,random_state=11,splitter='best')\n",
    "y_pred = clf_gini.predict(x_test)\n",
    "print(\"Accuracy is\",accuracy_score(y_test,y_pred)*100,\"\\b%\")"
   ]
  }
 ],
 "metadata": {
  "kernelspec": {
   "display_name": "Python 3",
   "language": "python",
   "name": "python3"
  },
  "language_info": {
   "codemirror_mode": {
    "name": "ipython",
    "version": 3
   },
   "file_extension": ".py",
   "mimetype": "text/x-python",
   "name": "python",
   "nbconvert_exporter": "python",
   "pygments_lexer": "ipython3",
   "version": "3.7.4"
  }
 },
 "nbformat": 4,
 "nbformat_minor": 2
}
