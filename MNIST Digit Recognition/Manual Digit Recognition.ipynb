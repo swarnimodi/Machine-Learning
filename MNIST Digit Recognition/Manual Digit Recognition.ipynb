{
 "cells": [
  {
   "cell_type": "code",
   "execution_count": 329,
   "metadata": {},
   "outputs": [],
   "source": [
    "import keras, numpy as np, matplotlib.pyplot as plt\n",
    "from keras.datasets import mnist\n",
    "\n",
    "(x_train,y_train),(x_test,y_test) = mnist.load_data()\n",
    "\n",
    "x_train = x_train.astype('float')/255\n",
    "x_test = x_test.astype('float')/255\n",
    "\n",
    "x_train = np.reshape(x_train,[60000,784])\n",
    "y_train = np.reshape(y_train,[60000,1])\n",
    "\n",
    "x_test = np.reshape(x_test,[10000,784])\n",
    "y_test = np.reshape(y_test,[10000,1])\n",
    "\n",
    "z = np.zeros((60000,10))\n",
    "for i in range(60000):\n",
    "    z[i][y_train[i]] = 1\n",
    "y_train = z\n",
    "\n",
    "z = np.zeros((10000,10))\n",
    "for i in range(10000):\n",
    "    z[i][y_test[i]] = 1\n",
    "y_test = z\n",
    "\n",
    "del z"
   ]
  },
  {
   "cell_type": "code",
   "execution_count": 330,
   "metadata": {},
   "outputs": [],
   "source": [
    "np.random.seed(0)\n",
    "w1 = np.random.randn(784,512) * 0.2\n",
    "np.random.seed(1)\n",
    "w2 = np.random.randn(512,256) * 0.2\n",
    "np.random.seed(2)\n",
    "w3 = np.random.randn(256,128) * 0.2\n",
    "np.random.seed(3)\n",
    "w4 = np.random.randn(128,64) * 0.2\n",
    "np.random.seed(4)\n",
    "w5 = np.random.randn(64,10) * 0.2\n",
    "\n",
    "b1 = np.zeros((1,512))\n",
    "b2 = np.zeros((1,256))\n",
    "b3 = np.zeros((1,128))\n",
    "b4 = np.zeros((1,64))\n",
    "b5 = np.zeros((1,10))"
   ]
  },
  {
   "cell_type": "code",
   "execution_count": 331,
   "metadata": {},
   "outputs": [],
   "source": [
    "def normalize(x):\n",
    "    num = (x - np.min(x,axis=1).reshape(len(x),1))\n",
    "    den = (np.max(x,axis=1).reshape(len(x),1) - np.min(x,axis=1).reshape(len(x),1))\n",
    "    return num/den"
   ]
  },
  {
   "cell_type": "code",
   "execution_count": 332,
   "metadata": {},
   "outputs": [],
   "source": [
    "def softmax(x):\n",
    "    X = normalize(x)\n",
    "    e_x = np.exp(X) \n",
    "    soft = e_x / (np.sum(e_x,axis=1).reshape(len(x),1))\n",
    "    return soft"
   ]
  },
  {
   "cell_type": "code",
   "execution_count": 333,
   "metadata": {},
   "outputs": [],
   "source": [
    "def tanh(x):\n",
    "    X = normalize(x)\n",
    "    t = (np.exp(X)-np.exp(-X)) / (np.exp(X)+np.exp(-X))\n",
    "    return t"
   ]
  },
  {
   "cell_type": "code",
   "execution_count": 334,
   "metadata": {},
   "outputs": [],
   "source": [
    "def dtanh(x):\n",
    "    t=tanh(x)\n",
    "    dt=1-t**2\n",
    "    return dt"
   ]
  },
  {
   "cell_type": "code",
   "execution_count": 335,
   "metadata": {},
   "outputs": [],
   "source": [
    "def relu(X):\n",
    "    x = normalize(X)\n",
    "    return x * (x > 0)"
   ]
  },
  {
   "cell_type": "code",
   "execution_count": 336,
   "metadata": {},
   "outputs": [],
   "source": [
    "def drelu(X):\n",
    "    x = normalize(X)\n",
    "    return 1. * (x > 0)"
   ]
  },
  {
   "cell_type": "code",
   "execution_count": 337,
   "metadata": {},
   "outputs": [],
   "source": [
    "def update(x,y,w1,b1,w2,b2,w3,b3,w4,b4,w5,b5,lr):\n",
    "    \n",
    "    z1 = np.dot(x,w1) + b1\n",
    "    a1 = np.array(relu(z1))\n",
    "    \n",
    "    z2 = np.dot(a1,w2) + b2\n",
    "    a2 = np.array(relu(z2))\n",
    "    \n",
    "    z3 = np.dot(a2,w3) + b3\n",
    "    a3 = np.array(relu(z3))\n",
    "\n",
    "    z4 = np.dot(a3,w4) + b4\n",
    "    a4 = np.array(relu(z4))\n",
    "    \n",
    "    z5 = np.dot(a4,w5) + b5\n",
    "    a5 = np.array(softmax(z5))\n",
    "    \n",
    "    dz5 = a5 - y\n",
    "    dw5 = (1/len(x)) * np.dot(a4.T,dz5)\n",
    "    db5 = (1/len(x)) * np.sum(dz5,axis=0,keepdims=True)\n",
    "    \n",
    "    dz4 = np.dot(dz5,w5.T) * drelu(z4)\n",
    "    dw4 = (1/len(x)) * np.dot(a3.T,dz4)\n",
    "    db4 = (1/len(x)) * np.sum(dz4,axis=0,keepdims=True)\n",
    "    \n",
    "    dz3 = np.dot(dz4,w4.T) * drelu(z3)\n",
    "    dw3 = (1/len(x)) * np.dot(a2.T,dz3)\n",
    "    db3 = (1/len(x)) * np.sum(dz3,axis=0,keepdims=True)\n",
    "    \n",
    "    dz2 = np.dot(dz3,w3.T) * drelu(z2)\n",
    "    dw2 = (1/len(x)) * np.dot(a1.T,dz2)\n",
    "    db2 = (1/len(x)) * np.sum(dz2,axis=0,keepdims=True)\n",
    "    \n",
    "    dz1 = np.dot(dz2,w2.T) * drelu(z1)\n",
    "    dw1 = (1/len(x)) * np.dot(x.T,dz1)\n",
    "    db1 = (1/len(x)) * np.sum(dz1,axis=0,keepdims=True)\n",
    "    \n",
    "    w1 -= lr*dw1\n",
    "    b1 -= lr*db1\n",
    "    w2 -= lr*dw2\n",
    "    b2 -= lr*db2\n",
    "    w3 -= lr*dw3\n",
    "    b3 -= lr*db3\n",
    "    w4 -= lr*dw4\n",
    "    b4 -= lr*db4\n",
    "    w5 -= lr*dw5\n",
    "    b5 -= lr*db5\n",
    "    \n",
    "    return [w1,b1,w2,b2,w3,b3,w4,b4,w5,b5]"
   ]
  },
  {
   "cell_type": "code",
   "execution_count": 338,
   "metadata": {},
   "outputs": [],
   "source": [
    "for j in range(600):\n",
    "    x_new = np.array([x_train[i] for i in range((100*j),(100*(j+1)))]).reshape(100,784)\n",
    "    y_new = np.array([y_train[i] for i in range((100*j),(100*(j+1)))]).reshape(100,10)\n",
    "    [w1,b1,w2,b2,w3,b3,w4,b4,w5,b5] = update(x_new,y_new,w1,b1,w2,b2,w3,b3,w4,b4,w5,b5,0.00099)"
   ]
  },
  {
   "cell_type": "code",
   "execution_count": 341,
   "metadata": {},
   "outputs": [
    {
     "name": "stdout",
     "output_type": "stream",
     "text": [
      "63.800000000000004 \b%\n"
     ]
    }
   ],
   "source": [
    "zt1 = np.dot(x_test,w1) + b1\n",
    "at1 = np.array(relu(zt1))\n",
    "\n",
    "zt2 = np.dot(at1,w2) + b2\n",
    "at2 = np.array(relu(zt2))\n",
    "\n",
    "zt3 = np.dot(at2,w3) + b3\n",
    "at3 = np.array(relu(zt3))\n",
    "\n",
    "zt4 = np.dot(at3,w4) + b4\n",
    "at4 = np.array(relu(zt4))\n",
    "    \n",
    "zt5 = np.dot(at4,w5) + b5\n",
    "at5 = np.array(softmax(zt5))\n",
    "\n",
    "preds = np.argmax(at5,axis=1).reshape(len(at5),1)\n",
    "truth = np.argmax(y_test,axis=1).reshape(len(y_test),1)\n",
    "\n",
    "c = np.equal(preds,truth)\n",
    "num = np.squeeze(np.sum(c,axis=0))\n",
    "den = len(truth)\n",
    "acc = (num/den) * 100\n",
    "print(acc,\"\\b%\")"
   ]
  }
 ],
 "metadata": {
  "kernelspec": {
   "display_name": "Python 3",
   "language": "python",
   "name": "python3"
  },
  "language_info": {
   "codemirror_mode": {
    "name": "ipython",
    "version": 3
   },
   "file_extension": ".py",
   "mimetype": "text/x-python",
   "name": "python",
   "nbconvert_exporter": "python",
   "pygments_lexer": "ipython3",
   "version": "3.7.7"
  }
 },
 "nbformat": 4,
 "nbformat_minor": 2
}
