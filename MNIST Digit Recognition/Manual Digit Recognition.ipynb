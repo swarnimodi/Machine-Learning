{
 "cells": [
  {
   "cell_type": "code",
   "execution_count": 113,
   "metadata": {},
   "outputs": [],
   "source": [
    "import keras, numpy as np, matplotlib.pyplot as plt\n",
    "from keras.datasets import mnist\n",
    "\n",
    "(x_train,y_train),(x_test,y_test) = mnist.load_data()\n",
    "\n",
    "x_train = np.reshape(x_train,[60000,784])\n",
    "y_train = np.reshape(y_train,[60000,1])\n",
    "\n",
    "x_test = np.reshape(x_test,[10000,784])\n",
    "y_test = np.reshape(y_test,[10000,1])\n",
    "\n",
    "mean = np.mean(x_train,axis=1,keepdims=True)\n",
    "var = np.var(x_train,axis=1,keepdims=True)\n",
    "x_train = (x_train-mean)/var\n",
    "\n",
    "mean = np.squeeze(np.mean(mean,axis=0))\n",
    "var = np.squeeze(np.mean(var,axis=0))\n",
    "x_test = (x_test-mean)/var\n",
    "\n",
    "z = np.zeros((60000,10))\n",
    "for i in range(60000):\n",
    "    z[i][y_train[i]] = 1\n",
    "y_train = z\n",
    "\n",
    "z = np.zeros((10000,10))\n",
    "for i in range(10000):\n",
    "    z[i][y_test[i]] = 1\n",
    "y_test = z\n",
    "\n",
    "del z"
   ]
  },
  {
   "cell_type": "code",
   "execution_count": 114,
   "metadata": {},
   "outputs": [],
   "source": [
    "def softmax(x):\n",
    "    e_x = np.exp(x) \n",
    "    soft = e_x / (np.sum(e_x,axis=1).reshape(len(x),1))\n",
    "    return soft"
   ]
  },
  {
   "cell_type": "code",
   "execution_count": 115,
   "metadata": {},
   "outputs": [],
   "source": [
    "def tanh(x):\n",
    "    t = (np.exp(x)-np.exp(-x)) / (np.exp(x)+np.exp(-x))\n",
    "    return t"
   ]
  },
  {
   "cell_type": "code",
   "execution_count": 116,
   "metadata": {},
   "outputs": [],
   "source": [
    "def dtanh(x):\n",
    "    t=tanh(x)\n",
    "    dt=1-t**2\n",
    "    return dt"
   ]
  },
  {
   "cell_type": "code",
   "execution_count": 117,
   "metadata": {},
   "outputs": [],
   "source": [
    "def relu(x):\n",
    "    return x * (x > 0)"
   ]
  },
  {
   "cell_type": "code",
   "execution_count": 118,
   "metadata": {},
   "outputs": [],
   "source": [
    "def drelu(x):\n",
    "    return 1. * (x > 0)"
   ]
  },
  {
   "cell_type": "code",
   "execution_count": 181,
   "metadata": {},
   "outputs": [],
   "source": [
    "def update(x,y,w1,b1,w2,b2,w3,b3,w4,b4,w5,b5,lr,lambd):\n",
    "    \n",
    "    z1 = np.dot(x,w1) + b1\n",
    "    a1 = np.array(relu(z1))\n",
    "    \n",
    "    z2 = np.dot(a1,w2) + b2\n",
    "    a2 = np.array(relu(z2))\n",
    "    \n",
    "    z3 = np.dot(a2,w3) + b3\n",
    "    a3 = np.array(relu(z3))\n",
    "\n",
    "    z4 = np.dot(a3,w4) + b4\n",
    "    a4 = np.array(relu(z4))\n",
    "    \n",
    "    z5 = np.dot(a4,w5) + b5\n",
    "    a5 = np.array(relu(z5))\n",
    "    \n",
    "    m = len(x)\n",
    "    \n",
    "    dz5 = a5 - y\n",
    "    dw5 = (1/m) * (np.dot(a4.T,dz5) + lambd*w5)\n",
    "    db5 = (1/m) * np.sum(dz5,axis=0,keepdims=True)\n",
    "    \n",
    "    dz4 = np.dot(dz5,w5.T) * drelu(z4)\n",
    "    dw4 = (1/m) * (np.dot(a3.T,dz4) + lambd*w4)\n",
    "    db4 = (1/m) * np.sum(dz4,axis=0,keepdims=True)\n",
    "    \n",
    "    dz3 = np.dot(dz4,w4.T) * drelu(z3)\n",
    "    dw3 = (1/m) * (np.dot(a2.T,dz3) + lambd*w3)\n",
    "    db3 = (1/m) * np.sum(dz3,axis=0,keepdims=True)\n",
    "    \n",
    "    dz2 = np.dot(dz3,w3.T) * drelu(z2)\n",
    "    dw2 = (1/m) * (np.dot(a1.T,dz2) + lambd*w2)\n",
    "    db2 = (1/m) * np.sum(dz2,axis=0,keepdims=True)\n",
    "    \n",
    "    dz1 = np.dot(dz2,w2.T) * drelu(z1)\n",
    "    dw1 = (1/m) * (np.dot(x.T,dz1) + lambd*w1)\n",
    "    db1 = (1/m) * np.sum(dz1,axis=0,keepdims=True)\n",
    "    \n",
    "    w5 = w5 - lr*dw5\n",
    "    b5 = b5 - lr*db5\n",
    "    w4 = w4 - lr*dw4\n",
    "    b4 = b4 - lr*db4\n",
    "    w3 = w3 - lr*dw3\n",
    "    b3 = b3 - lr*db3\n",
    "    w2 = w2 - lr*dw2\n",
    "    b2 = b2 - lr*db2\n",
    "    w1 = w1 - lr*dw1\n",
    "    b1 = b1 - lr*db1\n",
    "    \n",
    "    return [w1,b1,w2,b2,w3,b3,w4,b4,w5,b5]"
   ]
  },
  {
   "cell_type": "code",
   "execution_count": 230,
   "metadata": {},
   "outputs": [],
   "source": [
    "np.random.seed(0)\n",
    "w1 = np.random.randn(784,512) * np.sqrt(2/784)\n",
    "np.random.seed(0)\n",
    "w2 = np.random.randn(512,512) * np.sqrt(2/512)\n",
    "np.random.seed(0)\n",
    "w3 = np.random.randn(512,128) * np.sqrt(2/512)\n",
    "np.random.seed(0)\n",
    "w4 = np.random.randn(128,64) * np.sqrt(2/128)\n",
    "np.random.seed(0)\n",
    "w5 = np.random.randn(64,10) * np.sqrt(2/64)\n",
    "\n",
    "b1 = np.zeros((1,512))\n",
    "b2 = np.zeros((1,512))\n",
    "b3 = np.zeros((1,128))\n",
    "b4 = np.zeros((1,64))\n",
    "b5 = np.zeros((1,10))"
   ]
  },
  {
   "cell_type": "code",
   "execution_count": 231,
   "metadata": {},
   "outputs": [],
   "source": [
    "for k in range(10):\n",
    "    for j in range(600):\n",
    "        x_new = np.array([x_train[i] for i in range((100*j),(100*(j+1)))]).reshape(100,784)\n",
    "        y_new = np.array([y_train[i] for i in range((100*j),(100*(j+1)))]).reshape(100,10)\n",
    "        [w1,b1,w2,b2,w3,b3,w4,b4,w5,b5] = update(x_new,y_new,w1,b1,w2,b2,w3,b3,w4,b4,w5,b5,0.1,0.001)"
   ]
  },
  {
   "cell_type": "code",
   "execution_count": 232,
   "metadata": {},
   "outputs": [
    {
     "name": "stdout",
     "output_type": "stream",
     "text": [
      "Training Accuracy:  94.89166666666667 \b%\n"
     ]
    }
   ],
   "source": [
    "z1 = np.dot(x_train,w1) + b1\n",
    "a1 = np.array(relu(z1))\n",
    "\n",
    "z2 = np.dot(a1,w2) + b2\n",
    "a2 = np.array(relu(z2))\n",
    "\n",
    "z3 = np.dot(a2,w3) + b3\n",
    "a3 = np.array(relu(z3))\n",
    "\n",
    "z4 = np.dot(a3,w4) + b4\n",
    "a4 = np.array(relu(z4))\n",
    "    \n",
    "z5 = np.dot(a4,w5) + b5\n",
    "a5 = np.array(softmax(z5))\n",
    "\n",
    "pred = np.argmax(a5,axis=1).reshape(len(a5),1)\n",
    "label = np.argmax(y_train,axis=1).reshape(len(y_train),1)\n",
    "\n",
    "m = np.equal(pred,label)\n",
    "r = np.squeeze(np.sum(m,axis=0))\n",
    "accu = (r/60000) * 100\n",
    "\n",
    "print(\"Training Accuracy: \",accu,\"\\b%\")"
   ]
  },
  {
   "cell_type": "code",
   "execution_count": 233,
   "metadata": {},
   "outputs": [
    {
     "name": "stdout",
     "output_type": "stream",
     "text": [
      "Test Accuracy:  94.37 \b%\n"
     ]
    }
   ],
   "source": [
    "zt1 = np.dot(x_test,w1) + b1\n",
    "at1 = np.array(relu(zt1))\n",
    "\n",
    "zt2 = np.dot(at1,w2) + b2\n",
    "at2 = np.array(relu(zt2))\n",
    "\n",
    "zt3 = np.dot(at2,w3) + b3\n",
    "at3 = np.array(relu(zt3))\n",
    "\n",
    "zt4 = np.dot(at3,w4) + b4\n",
    "at4 = np.array(relu(zt4))\n",
    "    \n",
    "zt5 = np.dot(at4,w5) + b5\n",
    "at5 = np.array(softmax(zt5))\n",
    "\n",
    "preds = np.argmax(at5,axis=1).reshape(len(at5),1)\n",
    "truth = np.argmax(y_test,axis=1).reshape(len(y_test),1)\n",
    "\n",
    "c = np.equal(preds,truth)\n",
    "num = np.squeeze(np.sum(c,axis=0))\n",
    "acc = (num/10000) * 100\n",
    "print(\"Test Accuracy: \",acc,\"\\b%\")"
   ]
  }
 ],
 "metadata": {
  "kernelspec": {
   "display_name": "Python 3",
   "language": "python",
   "name": "python3"
  },
  "language_info": {
   "codemirror_mode": {
    "name": "ipython",
    "version": 3
   },
   "file_extension": ".py",
   "mimetype": "text/x-python",
   "name": "python",
   "nbconvert_exporter": "python",
   "pygments_lexer": "ipython3",
   "version": "3.7.7"
  }
 },
 "nbformat": 4,
 "nbformat_minor": 2
}
