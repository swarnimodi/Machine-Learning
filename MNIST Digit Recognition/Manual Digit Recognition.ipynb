{
 "cells": [
  {
   "cell_type": "code",
   "execution_count": 750,
   "metadata": {},
   "outputs": [],
   "source": [
    "import keras, numpy as np, matplotlib.pyplot as plt\n",
    "from keras.datasets import mnist\n",
    "\n",
    "(x_train,y_train),(x_test,y_test) = mnist.load_data()\n",
    "\n",
    "x_train = x_train.astype('float')/255\n",
    "x_test = x_test.astype('float')/255\n",
    "\n",
    "x_train = np.reshape(x_train,[60000,784])\n",
    "y_train = np.reshape(y_train,[60000,1])\n",
    "\n",
    "x_test = np.reshape(x_test,[10000,784])\n",
    "y_test = np.reshape(y_test,[10000,1])\n",
    "\n",
    "z = np.zeros((60000,10))\n",
    "for i in range(60000):\n",
    "    z[i][y_train[i]] = 1\n",
    "y_train = z\n",
    "\n",
    "z = np.zeros((10000,10))\n",
    "for i in range(10000):\n",
    "    z[i][y_test[i]] = 1\n",
    "y_test = z\n",
    "\n",
    "del z"
   ]
  },
  {
   "cell_type": "code",
   "execution_count": 769,
   "metadata": {},
   "outputs": [],
   "source": [
    "weights1 = np.random.rand(784,128) * 0.1\n",
    "weights2 = np.random.rand(128,64) * 0.1\n",
    "weights3 = np.random.rand(64,10) * 0.1\n",
    "bias1 = np.zeros((1,128))\n",
    "bias2 = np.zeros((1,64))\n",
    "bias3 = np.zeros((1,10))"
   ]
  },
  {
   "cell_type": "code",
   "execution_count": 770,
   "metadata": {},
   "outputs": [],
   "source": [
    "def normalize(x):\n",
    "    num = (x - np.min(x,axis=1).reshape(len(x),1))\n",
    "    den = (np.max(x,axis=1).reshape(len(x),1) - np.min(x,axis=1).reshape(len(x),1))\n",
    "    return num/den"
   ]
  },
  {
   "cell_type": "code",
   "execution_count": 771,
   "metadata": {},
   "outputs": [],
   "source": [
    "def softmax(x):\n",
    "    X = normalize(x)\n",
    "    e_x = np.exp(X) \n",
    "    soft = e_x / (np.sum(e_x,axis=1).reshape(len(x),1))\n",
    "    return soft"
   ]
  },
  {
   "cell_type": "code",
   "execution_count": 772,
   "metadata": {},
   "outputs": [],
   "source": [
    "def tanh(x):\n",
    "    X = normalize(x)\n",
    "    t = (np.exp(X)-np.exp(-X)) / (np.exp(X)+np.exp(-X))\n",
    "    return t"
   ]
  },
  {
   "cell_type": "code",
   "execution_count": 773,
   "metadata": {},
   "outputs": [],
   "source": [
    "def dtanh(x):\n",
    "    t=tanh(x)\n",
    "    dt=1-t**2\n",
    "    return dt"
   ]
  },
  {
   "cell_type": "code",
   "execution_count": 774,
   "metadata": {},
   "outputs": [],
   "source": [
    "def relu(X):\n",
    "    x = normalize(X)\n",
    "    return x * (x > 0)"
   ]
  },
  {
   "cell_type": "code",
   "execution_count": 775,
   "metadata": {},
   "outputs": [],
   "source": [
    "def drelu(X):\n",
    "    x = normalize(X)\n",
    "    return 1. * (x > 0)"
   ]
  },
  {
   "cell_type": "code",
   "execution_count": 776,
   "metadata": {},
   "outputs": [],
   "source": [
    "def update(x,y,w1,b1,w2,b2,w3,b3,lr):\n",
    "    \n",
    "    z1 = np.dot(x,w1) + b1\n",
    "    a1 = np.array(relu(z1))\n",
    "    \n",
    "    z2 = np.dot(a1,w2) + b2\n",
    "    a2 = np.array(relu(z2))\n",
    "    \n",
    "    z3 = np.dot(a2,w3) + b3\n",
    "    a3 = np.array(softmax(z3))\n",
    "    \n",
    "    dz3 = a3-y\n",
    "    dw3 = (1/len(x)) * np.dot(a2.T,dz3)\n",
    "    db3 = (1/len(x)) * np.sum(dz3,axis=0,keepdims=True)\n",
    "    \n",
    "    dz2 = np.dot(dz3,w3.T) * drelu(z2)\n",
    "    dw2 = (1/len(x)) * np.dot(a1.T,dz2)\n",
    "    db2 = (1/len(x)) * np.sum(dz2,axis=0,keepdims=True)\n",
    "    \n",
    "    dz1 = np.dot(dz2,w2.T) * drelu(z1)\n",
    "    dw1 = (1/len(x)) * np.dot(x.T,dz1)\n",
    "    db1 = (1/len(x)) * np.sum(dz1,axis=0,keepdims=True)\n",
    "    \n",
    "    w1 -= lr*dw1\n",
    "    b1 -= lr*db1\n",
    "    w2 -= lr*dw2\n",
    "    b2 -= lr*db2\n",
    "    w3 -= lr*dw3\n",
    "    b3 -= lr*db3\n",
    "    \n",
    "    return [w1,b1,w2,b2,w3,b3]"
   ]
  },
  {
   "cell_type": "code",
   "execution_count": 779,
   "metadata": {},
   "outputs": [],
   "source": [
    "for j in range(600):\n",
    "    x_new = np.array([x_train[i] for i in range((100*j),(100*(j+1)))]).reshape(100,784)\n",
    "    y_new = np.array([y_train[i] for i in range((100*j),(100*(j+1)))]).reshape(100,10)\n",
    "    [weights1,bias1,weights2,bias2,weights3,bias3] = update(x_new,y_new,weights1,bias1,weights2,bias2,weights3,bias3,0.001)"
   ]
  },
  {
   "cell_type": "code",
   "execution_count": 783,
   "metadata": {},
   "outputs": [
    {
     "name": "stdout",
     "output_type": "stream",
     "text": [
      "66.0 \b%\n"
     ]
    }
   ],
   "source": [
    "xt_new = np.array([x_test[i] for i in range(100)]).reshape(100,784)\n",
    "yt_new = np.array([y_test[i] for i in range(100)]).reshape(100,10)\n",
    "\n",
    "zt1 = np.dot(xt_new,weights1) + bias1\n",
    "at1 = np.array(relu(zt1))\n",
    "\n",
    "zt2 = np.dot(at1,weights2) + bias2\n",
    "at2 = np.array(relu(zt2))\n",
    "\n",
    "zt3 = np.dot(at2,weights3) + bias3\n",
    "at3 = np.array(softmax(zt3))\n",
    "\n",
    "preds = np.argmax(at3,axis=1).reshape(len(at3),1)\n",
    "truth = np.argmax(yt_new,axis=1).reshape(len(yt_new),1)\n",
    "\n",
    "c = np.equal(preds,truth)\n",
    "num = np.squeeze(np.sum(c,axis=0))\n",
    "den = len(preds)\n",
    "acc = (num/den) * 100\n",
    "print(acc,\"\\b%\")"
   ]
  }
 ],
 "metadata": {
  "kernelspec": {
   "display_name": "Python 3",
   "language": "python",
   "name": "python3"
  },
  "language_info": {
   "codemirror_mode": {
    "name": "ipython",
    "version": 3
   },
   "file_extension": ".py",
   "mimetype": "text/x-python",
   "name": "python",
   "nbconvert_exporter": "python",
   "pygments_lexer": "ipython3",
   "version": "3.7.7"
  }
 },
 "nbformat": 4,
 "nbformat_minor": 2
}
