{
 "cells": [
  {
   "cell_type": "code",
   "execution_count": 5,
   "metadata": {},
   "outputs": [],
   "source": [
    "import keras, numpy as np, matplotlib.pyplot as plt\n",
    "from keras.datasets import mnist\n",
    "\n",
    "(x_train,y_train),(x_test,y_test) = mnist.load_data()\n",
    "\n",
    "x_train = x_train.astype('float')/255\n",
    "x_test = x_test.astype('float')/255\n",
    "\n",
    "x_train = np.reshape(x_train,[60000,784])\n",
    "y_train = np.reshape(y_train,[60000,1])\n",
    "\n",
    "x_test = np.reshape(x_test,[10000,784])\n",
    "y_test = np.reshape(y_test,[10000,1])\n",
    "\n",
    "z = np.zeros((60000,10))\n",
    "for i in range(60000):\n",
    "    z[i][y_train[i]] = 1\n",
    "y_train = z\n",
    "\n",
    "z = np.zeros((10000,10))\n",
    "for i in range(10000):\n",
    "    z[i][y_test[i]] = 1\n",
    "y_test = z\n",
    "\n",
    "del z\n",
    "\n",
    "x_new = np.array([x_train[i] for i in range(1000)]).reshape(1000,784)\n",
    "y_new = np.array([y_train[i] for i in range(1000)]).reshape(1000,10)"
   ]
  },
  {
   "cell_type": "code",
   "execution_count": 3,
   "metadata": {},
   "outputs": [],
   "source": [
    "weights1 = np.zeros((784,128))\n",
    "weights2 = np.zeros((128,64))\n",
    "weights3 = np.zeros((64,10))"
   ]
  },
  {
   "cell_type": "code",
   "execution_count": 4,
   "metadata": {},
   "outputs": [],
   "source": [
    "def softmax(x):\n",
    "    exps = np.exp(x-np.max(x))\n",
    "    return (exps / exps.sum())"
   ]
  },
  {
   "cell_type": "code",
   "execution_count": 5,
   "metadata": {},
   "outputs": [],
   "source": [
    "def relu(x):\n",
    "    return np.maximum(0,x)"
   ]
  },
  {
   "cell_type": "code",
   "execution_count": 6,
   "metadata": {},
   "outputs": [],
   "source": [
    "def sigmoid(x):\n",
    "    return 1/(1+np.exp(-x))"
   ]
  },
  {
   "cell_type": "code",
   "execution_count": 7,
   "metadata": {},
   "outputs": [],
   "source": [
    "def dsigmoid(x):\n",
    "    return (sigmoid(x)*(1-sigmoid(x)))"
   ]
  },
  {
   "cell_type": "code",
   "execution_count": 8,
   "metadata": {},
   "outputs": [],
   "source": [
    "def drelu(x):\n",
    "    x[x>=0] = 1\n",
    "    x[x<0] = 0\n",
    "    return x"
   ]
  },
  {
   "cell_type": "code",
   "execution_count": 9,
   "metadata": {},
   "outputs": [],
   "source": [
    "def dsoftmax(x):\n",
    "    c = np.array([softmax(i) for i in x])\n",
    "    d = np.array([(1-softmax(i)) for i in x])\n",
    "    z = c * d\n",
    "    return z"
   ]
  },
  {
   "cell_type": "code",
   "execution_count": 10,
   "metadata": {},
   "outputs": [],
   "source": [
    "def update(x,y,w1,w2,w3,lr):\n",
    "    a2 = np.array(relu(np.dot(x,w1)))\n",
    "    a3 = np.array(relu(np.dot(a2,w2)))\n",
    "    a4 = np.array([softmax(np.dot(a3,w3)[i]) for i in range(len(a3))])\n",
    "    err4 = np.zeros((len(a4),len(a4[0])))\n",
    "    err4 = a4-y\n",
    "    err3 = np.dot(err4,w3.T) * dsoftmax(np.dot(a2,w2))\n",
    "    err2 = np.dot(err3,w2.T) * drelu(np.dot(x,w1))\n",
    "    w1 = w1 - np.dot(x.T,err2)*lr\n",
    "    w2 = w2 - np.dot(a2.T,err3)*lr\n",
    "    w3 -= np.dot(a3.T,err4)*lr\n",
    "    return [w1,w2,w3]"
   ]
  },
  {
   "cell_type": "code",
   "execution_count": 11,
   "metadata": {},
   "outputs": [],
   "source": [
    "for i in range(50):\n",
    "    [weights1,weights2,weights3] = update(x_new,y_new,weights1,weights2,weights3,0.05)"
   ]
  },
  {
   "cell_type": "code",
   "execution_count": 12,
   "metadata": {},
   "outputs": [
    {
     "name": "stdout",
     "output_type": "stream",
     "text": [
      "[[0.00666667 0.00666667 0.00666667 0.00666667 0.00666667 0.00666667\n",
      "  0.00666667 0.00666667 0.00666667 0.00666667]\n",
      " [0.00666667 0.00666667 0.00666667 0.00666667 0.00666667 0.00666667\n",
      "  0.00666667 0.00666667 0.00666667 0.00666667]\n",
      " [0.00666667 0.00666667 0.00666667 0.00666667 0.00666667 0.00666667\n",
      "  0.00666667 0.00666667 0.00666667 0.00666667]\n",
      " [0.00666667 0.00666667 0.00666667 0.00666667 0.00666667 0.00666667\n",
      "  0.00666667 0.00666667 0.00666667 0.00666667]\n",
      " [0.00666667 0.00666667 0.00666667 0.00666667 0.00666667 0.00666667\n",
      "  0.00666667 0.00666667 0.00666667 0.00666667]\n",
      " [0.00666667 0.00666667 0.00666667 0.00666667 0.00666667 0.00666667\n",
      "  0.00666667 0.00666667 0.00666667 0.00666667]\n",
      " [0.00666667 0.00666667 0.00666667 0.00666667 0.00666667 0.00666667\n",
      "  0.00666667 0.00666667 0.00666667 0.00666667]\n",
      " [0.00666667 0.00666667 0.00666667 0.00666667 0.00666667 0.00666667\n",
      "  0.00666667 0.00666667 0.00666667 0.00666667]\n",
      " [0.00666667 0.00666667 0.00666667 0.00666667 0.00666667 0.00666667\n",
      "  0.00666667 0.00666667 0.00666667 0.00666667]\n",
      " [0.00666667 0.00666667 0.00666667 0.00666667 0.00666667 0.00666667\n",
      "  0.00666667 0.00666667 0.00666667 0.00666667]\n",
      " [0.00666667 0.00666667 0.00666667 0.00666667 0.00666667 0.00666667\n",
      "  0.00666667 0.00666667 0.00666667 0.00666667]\n",
      " [0.00666667 0.00666667 0.00666667 0.00666667 0.00666667 0.00666667\n",
      "  0.00666667 0.00666667 0.00666667 0.00666667]\n",
      " [0.00666667 0.00666667 0.00666667 0.00666667 0.00666667 0.00666667\n",
      "  0.00666667 0.00666667 0.00666667 0.00666667]\n",
      " [0.00666667 0.00666667 0.00666667 0.00666667 0.00666667 0.00666667\n",
      "  0.00666667 0.00666667 0.00666667 0.00666667]\n",
      " [0.00666667 0.00666667 0.00666667 0.00666667 0.00666667 0.00666667\n",
      "  0.00666667 0.00666667 0.00666667 0.00666667]]\n",
      "[[0.1 0.1 0.1 0.1 0.1 0.1 0.1 0.1 0.1 0.1]\n",
      " [0.1 0.1 0.1 0.1 0.1 0.1 0.1 0.1 0.1 0.1]\n",
      " [0.1 0.1 0.1 0.1 0.1 0.1 0.1 0.1 0.1 0.1]\n",
      " [0.1 0.1 0.1 0.1 0.1 0.1 0.1 0.1 0.1 0.1]\n",
      " [0.1 0.1 0.1 0.1 0.1 0.1 0.1 0.1 0.1 0.1]\n",
      " [0.1 0.1 0.1 0.1 0.1 0.1 0.1 0.1 0.1 0.1]\n",
      " [0.1 0.1 0.1 0.1 0.1 0.1 0.1 0.1 0.1 0.1]\n",
      " [0.1 0.1 0.1 0.1 0.1 0.1 0.1 0.1 0.1 0.1]\n",
      " [0.1 0.1 0.1 0.1 0.1 0.1 0.1 0.1 0.1 0.1]\n",
      " [0.1 0.1 0.1 0.1 0.1 0.1 0.1 0.1 0.1 0.1]\n",
      " [0.1 0.1 0.1 0.1 0.1 0.1 0.1 0.1 0.1 0.1]\n",
      " [0.1 0.1 0.1 0.1 0.1 0.1 0.1 0.1 0.1 0.1]\n",
      " [0.1 0.1 0.1 0.1 0.1 0.1 0.1 0.1 0.1 0.1]\n",
      " [0.1 0.1 0.1 0.1 0.1 0.1 0.1 0.1 0.1 0.1]\n",
      " [0.1 0.1 0.1 0.1 0.1 0.1 0.1 0.1 0.1 0.1]]\n"
     ]
    }
   ],
   "source": [
    "xt_new = np.array([x_test[i] for i in range(15)]).reshape(15,784)\n",
    "yt_new = np.array([y_test[i] for i in range(15)]).reshape(15,10)\n",
    "at2 = np.array(relu(np.dot(xt_new,weights1)))\n",
    "at3 = np.array(relu(np.dot(at2,weights2)))\n",
    "at4 = np.array([softmax(np.dot(at3,weights3)[i]) for i in range(len(at3))])\n",
    "print(softmax(np.dot(at3,weights3)))\n",
    "print(at4)"
   ]
  }
 ],
 "metadata": {
  "kernelspec": {
   "display_name": "Python 3",
   "language": "python",
   "name": "python3"
  },
  "language_info": {
   "codemirror_mode": {
    "name": "ipython",
    "version": 3
   },
   "file_extension": ".py",
   "mimetype": "text/x-python",
   "name": "python",
   "nbconvert_exporter": "python",
   "pygments_lexer": "ipython3",
   "version": "3.7.7"
  }
 },
 "nbformat": 4,
 "nbformat_minor": 2
}
