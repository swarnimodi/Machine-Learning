{
 "cells": [
  {
   "cell_type": "code",
   "execution_count": 1,
   "metadata": {},
   "outputs": [
    {
     "name": "stderr",
     "output_type": "stream",
     "text": [
      "Using TensorFlow backend.\n"
     ]
    }
   ],
   "source": [
    "import sklearn, keras, numpy as np\n",
    "from keras.datasets import mnist\n",
    "from keras.models import Sequential\n",
    "from keras.layers import Dense\n",
    "from sklearn.preprocessing import OneHotEncoder\n",
    "from sklearn.metrics import accuracy_score"
   ]
  },
  {
   "cell_type": "code",
   "execution_count": 2,
   "metadata": {},
   "outputs": [],
   "source": [
    "ohe = OneHotEncoder()\n",
    "(x_train,y_train),(x_test,y_test) = mnist.load_data()\n",
    "x_train = np.reshape(x_train,[60000,784])\n",
    "x_test = np.reshape(x_test,[10000,784])\n",
    "y_train = ohe.fit_transform(y_train.reshape(-1,1)).toarray()\n",
    "y_test = np.reshape(y_test,[10000,1])\n",
    "\n",
    "mean = np.mean(x_train,axis=1,keepdims=True)\n",
    "var = np.var(x_train,axis=1,keepdims=True)\n",
    "x_train = (x_train-mean)/var\n",
    "\n",
    "mean = np.squeeze(np.mean(mean,axis=0))\n",
    "var = np.squeeze(np.mean(var,axis=0))\n",
    "x_test = (x_test-mean)/var"
   ]
  },
  {
   "cell_type": "code",
   "execution_count": 3,
   "metadata": {
    "scrolled": false
   },
   "outputs": [
    {
     "name": "stdout",
     "output_type": "stream",
     "text": [
      "Epoch 1/40\n",
      "60000/60000 [==============================] - 2s 29us/step - loss: 0.1295 - accuracy: 0.9548\n",
      "Epoch 2/40\n",
      "60000/60000 [==============================] - 2s 27us/step - loss: 0.0521 - accuracy: 0.9830\n",
      "Epoch 3/40\n",
      "60000/60000 [==============================] - 2s 26us/step - loss: 0.0430 - accuracy: 0.9859\n",
      "Epoch 4/40\n",
      "60000/60000 [==============================] - 2s 26us/step - loss: 0.0370 - accuracy: 0.9880\n",
      "Epoch 5/40\n",
      "60000/60000 [==============================] - 2s 26us/step - loss: 0.0325 - accuracy: 0.9894\n",
      "Epoch 6/40\n",
      "60000/60000 [==============================] - 2s 26us/step - loss: 0.0287 - accuracy: 0.9907\n",
      "Epoch 7/40\n",
      "60000/60000 [==============================] - 2s 26us/step - loss: 0.0258 - accuracy: 0.9916\n",
      "Epoch 8/40\n",
      "60000/60000 [==============================] - 2s 26us/step - loss: 0.0233 - accuracy: 0.9924\n",
      "Epoch 9/40\n",
      "60000/60000 [==============================] - 1s 25us/step - loss: 0.0211 - accuracy: 0.9931\n",
      "Epoch 10/40\n",
      "60000/60000 [==============================] - 1s 22us/step - loss: 0.0195 - accuracy: 0.9937\n",
      "Epoch 11/40\n",
      "60000/60000 [==============================] - 1s 22us/step - loss: 0.0178 - accuracy: 0.9943\n",
      "Epoch 12/40\n",
      "60000/60000 [==============================] - 1s 22us/step - loss: 0.0162 - accuracy: 0.9948\n",
      "Epoch 13/40\n",
      "60000/60000 [==============================] - 1s 22us/step - loss: 0.0151 - accuracy: 0.9953\n",
      "Epoch 14/40\n",
      "60000/60000 [==============================] - 1s 23us/step - loss: 0.0140 - accuracy: 0.9956\n",
      "Epoch 15/40\n",
      "60000/60000 [==============================] - 1s 22us/step - loss: 0.0128 - accuracy: 0.9960\n",
      "Epoch 16/40\n",
      "60000/60000 [==============================] - 1s 22us/step - loss: 0.0120 - accuracy: 0.9961\n",
      "Epoch 17/40\n",
      "60000/60000 [==============================] - 1s 22us/step - loss: 0.0111 - accuracy: 0.9965\n",
      "Epoch 18/40\n",
      "60000/60000 [==============================] - 1s 23us/step - loss: 0.0104 - accuracy: 0.9967\n",
      "Epoch 19/40\n",
      "60000/60000 [==============================] - 1s 22us/step - loss: 0.0097 - accuracy: 0.9969\n",
      "Epoch 20/40\n",
      "60000/60000 [==============================] - 1s 22us/step - loss: 0.0091 - accuracy: 0.9972\n",
      "Epoch 21/40\n",
      "60000/60000 [==============================] - 2s 27us/step - loss: 0.0084 - accuracy: 0.9974\n",
      "Epoch 22/40\n",
      "60000/60000 [==============================] - 1s 22us/step - loss: 0.0078 - accuracy: 0.9977\n",
      "Epoch 23/40\n",
      "60000/60000 [==============================] - 1s 22us/step - loss: 0.0073 - accuracy: 0.9978\n",
      "Epoch 24/40\n",
      "60000/60000 [==============================] - 1s 22us/step - loss: 0.0069 - accuracy: 0.9980\n",
      "Epoch 25/40\n",
      "60000/60000 [==============================] - 1s 22us/step - loss: 0.0064 - accuracy: 0.9982\n",
      "Epoch 26/40\n",
      "60000/60000 [==============================] - 1s 25us/step - loss: 0.0061 - accuracy: 0.9983\n",
      "Epoch 27/40\n",
      "60000/60000 [==============================] - 1s 23us/step - loss: 0.0056 - accuracy: 0.9984\n",
      "Epoch 28/40\n",
      "60000/60000 [==============================] - 1s 22us/step - loss: 0.0054 - accuracy: 0.9985\n",
      "Epoch 29/40\n",
      "60000/60000 [==============================] - 2s 27us/step - loss: 0.0049 - accuracy: 0.9986\n",
      "Epoch 30/40\n",
      "60000/60000 [==============================] - 1s 22us/step - loss: 0.0047 - accuracy: 0.9988\n",
      "Epoch 31/40\n",
      "60000/60000 [==============================] - 1s 25us/step - loss: 0.0044 - accuracy: 0.9988\n",
      "Epoch 32/40\n",
      "60000/60000 [==============================] - 1s 22us/step - loss: 0.0040 - accuracy: 0.9990\n",
      "Epoch 33/40\n",
      "60000/60000 [==============================] - 1s 22us/step - loss: 0.0038 - accuracy: 0.9990\n",
      "Epoch 34/40\n",
      "60000/60000 [==============================] - 1s 22us/step - loss: 0.0035 - accuracy: 0.9991\n",
      "Epoch 35/40\n",
      "60000/60000 [==============================] - 1s 22us/step - loss: 0.0032 - accuracy: 0.9992\n",
      "Epoch 36/40\n",
      "60000/60000 [==============================] - 1s 22us/step - loss: 0.0031 - accuracy: 0.9992\n",
      "Epoch 37/40\n",
      "60000/60000 [==============================] - 1s 22us/step - loss: 0.0028 - accuracy: 0.9993\n",
      "Epoch 38/40\n",
      "60000/60000 [==============================] - 1s 22us/step - loss: 0.0025 - accuracy: 0.9994\n",
      "Epoch 39/40\n",
      "60000/60000 [==============================] - 1s 22us/step - loss: 0.0025 - accuracy: 0.9994\n",
      "Epoch 40/40\n",
      "60000/60000 [==============================] - 1s 22us/step - loss: 0.0022 - accuracy: 0.9995\n"
     ]
    },
    {
     "data": {
      "text/plain": [
       "<keras.callbacks.callbacks.History at 0x1321a97d0>"
      ]
     },
     "execution_count": 3,
     "metadata": {},
     "output_type": "execute_result"
    }
   ],
   "source": [
    "model = Sequential()\n",
    "model.add(Dense(128, input_dim=784, activation='relu'))\n",
    "model.add(Dense(64, activation='relu'))\n",
    "model.add(Dense(10, activation='softmax'))\n",
    "model.compile(loss='binary_crossentropy', optimizer='adam', metrics=['accuracy'])\n",
    "model.fit(x_train, y_train, epochs=40, batch_size=200)"
   ]
  },
  {
   "cell_type": "code",
   "execution_count": 4,
   "metadata": {},
   "outputs": [
    {
     "name": "stdout",
     "output_type": "stream",
     "text": [
      "Accuracy is: 97.42 %\n"
     ]
    }
   ],
   "source": [
    "predictions = model.predict_classes(x_test)\n",
    "a = accuracy_score(predictions,y_test)\n",
    "print('Accuracy is:', a*100,'%')"
   ]
  }
 ],
 "metadata": {
  "kernelspec": {
   "display_name": "Python 3",
   "language": "python",
   "name": "python3"
  },
  "language_info": {
   "codemirror_mode": {
    "name": "ipython",
    "version": 3
   },
   "file_extension": ".py",
   "mimetype": "text/x-python",
   "name": "python",
   "nbconvert_exporter": "python",
   "pygments_lexer": "ipython3",
   "version": "3.7.7"
  }
 },
 "nbformat": 4,
 "nbformat_minor": 2
}
