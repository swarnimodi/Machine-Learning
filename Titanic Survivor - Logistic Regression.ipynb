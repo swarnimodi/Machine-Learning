{
 "cells": [
  {
   "cell_type": "code",
   "execution_count": 60,
   "metadata": {},
   "outputs": [],
   "source": [
    "import pandas as pd, numpy as np\n",
    "reader = pd.read_csv('train.csv',header=None)\n",
    "feat = reader.values.tolist()\n",
    "del feat[0]\n",
    "survived = [float(i[1]) for i in feat]\n",
    "for i in feat:\n",
    "    del i[0],i[0],i[1],i[5],i[6],i[6]\n",
    "for i in feat:\n",
    "    if i[1] == 'male':\n",
    "        i[1] = 1\n",
    "    if i[1] == 'female':\n",
    "        i[1] = 2\n",
    "for i in range(891):\n",
    "    for j in range(6):\n",
    "        feat[i][j] = float(feat[i][j])\n",
    "mean=n=[0,0,0,0,0,0]\n",
    "for i in feat:\n",
    "    for j in range(6):\n",
    "        if math.isnan(i[j])==0:\n",
    "            mean[j]+=i[j]\n",
    "            n[j]=n[j]+1\n",
    "mean = [mean[i]/n[i] for i in range(6)]\n",
    "for i in feat:\n",
    "    for j in range(6):\n",
    "        if math.isnan(i[j]):\n",
    "            i[j] = mean[j]\n",
    "feat = normalize(np.array(feat).reshape(891,6))\n",
    "survived = np.array(survived).reshape(891,1)\n",
    "weights = np.array([0.5 for i in range(6)]).reshape(6,1)\n",
    "for i in range(500):\n",
    "    weights = update1(feat,survived,weights,6.3)"
   ]
  },
  {
   "cell_type": "code",
   "execution_count": 61,
   "metadata": {},
   "outputs": [],
   "source": [
    "reading = pd.read_csv('test.csv',header=None)\n",
    "fea = reading.values.tolist()\n",
    "del fea[0]\n",
    "for i in fea:\n",
    "    del i[10],i[9],i[7],i[2],i[0]\n",
    "for i in fea:\n",
    "    if i[1] == 'male':\n",
    "        i[1] = 1\n",
    "    if i[1] == 'female':\n",
    "        i[1] = 2\n",
    "for i in range(418):\n",
    "    for j in range(6):\n",
    "        fea[i][j] = float(fea[i][j])\n",
    "mean=n=[0,0,0,0,0,0]\n",
    "for i in fea:\n",
    "    for j in range(6):\n",
    "        if math.isnan(i[j])==0:\n",
    "            mean[j]+=i[j]\n",
    "            n[j]=n[j]+1\n",
    "mean = [mean[i]/n[i] for i in range(6)]\n",
    "for i in fea:\n",
    "    for j in range(6):\n",
    "        if math.isnan(i[j]):\n",
    "            i[j] = mean[j]\n",
    "fea = np.array(fea).reshape(418,6)\n",
    "fea = normalize(fea)\n",
    "new = np.zeros((418,1))\n",
    "for i in range(418):\n",
    "    if predictions(fea,weights)[i]>=0.5:\n",
    "        new[i][0] = 1\n",
    "    else:\n",
    "        new[i][0] = 0\n",
    "rea = pd.read_csv('gender_submission.csv',header=None)\n",
    "actual = rea.values.tolist()\n",
    "del actual[0]\n",
    "for i in actual:\n",
    "    del i[0]\n",
    "    i[0] = float(i[0])\n",
    "actual = np.array(actual).reshape(418,1)"
   ]
  },
  {
   "cell_type": "code",
   "execution_count": 62,
   "metadata": {},
   "outputs": [
    {
     "name": "stdout",
     "output_type": "stream",
     "text": [
      "100.0\n",
      "[[152   0]\n",
      " [  0 266]]\n"
     ]
    }
   ],
   "source": [
    "tp=tn=fp=fn=0\n",
    "for i in range(418):\n",
    "    if new[i][0]==actual[i][0]==0.0:\n",
    "        tn=tn+1\n",
    "    if new[i][0]==actual[i][0]==1.0:\n",
    "        tp=tp+1\n",
    "    if (new[i][0]!=actual[i][0])and(new[i][0]==1.0):\n",
    "        fp=fp+1\n",
    "    if (new[i][0]!=actual[i][0])and(new[i][0]==0.0):\n",
    "        fn=fn+1\n",
    "accuracy = (tn+tp)/418\n",
    "print(accuracy*100)\n",
    "confusion = np.array([[tp,fn],[fp,tn]])\n",
    "print(confusion)"
   ]
  },
  {
   "cell_type": "code",
   "execution_count": 63,
   "metadata": {},
   "outputs": [],
   "source": [
    "def normalize(feat):\n",
    "    for f in feat.T:\n",
    "        mean = np.mean(f)\n",
    "        n = np.amax(f) - np.amin(f)\n",
    "        f -= mean\n",
    "        f /= n\n",
    "    return feat"
   ]
  },
  {
   "cell_type": "code",
   "execution_count": 64,
   "metadata": {},
   "outputs": [],
   "source": [
    "def predictions(feat,weights):\n",
    "    predict = np.zeros((891,1))\n",
    "    predict = np.dot(feat,weights)\n",
    "    return predict"
   ]
  },
  {
   "cell_type": "code",
   "execution_count": 65,
   "metadata": {},
   "outputs": [],
   "source": [
    "def sigmoid(z):\n",
    "    return 1/(1+np.exp(-z))"
   ]
  },
  {
   "cell_type": "code",
   "execution_count": 66,
   "metadata": {},
   "outputs": [],
   "source": [
    "def costfunc(feat,weights,survived):\n",
    "    prediction = [sigmoid(z) for z in predictions(feat,weights)]\n",
    "    cost1 = np.zeros((891,1))\n",
    "    cost2 = np.zeros((891,1))\n",
    "    for i in range(891):\n",
    "        cost1[i] = -survived[i]*np.log(prediction[i])\n",
    "    for i in range(891):\n",
    "        cost2[i] = -(1-survived[i])*(np.log(1-prediction[i]))\n",
    "    cost = np.zeros((891,1))\n",
    "    cost = cost1 + cost2\n",
    "    cost = cost.sum()/891\n",
    "    return cost"
   ]
  },
  {
   "cell_type": "code",
   "execution_count": 67,
   "metadata": {},
   "outputs": [],
   "source": [
    "def update1(feat,survived,weights,lr):\n",
    "    prediction = predictions(feat,weights)\n",
    "    for i in range(6):\n",
    "        for j in range(891):\n",
    "            a = 1-(2*survived[j][0])\n",
    "            b = 1 + math.exp(prediction[j][0])\n",
    "            c = a/b\n",
    "            x = feat[j,i]\n",
    "            gradient = x*c*lr/891\n",
    "        weights[i][0]-=gradient\n",
    "    return weights"
   ]
  },
  {
   "cell_type": "code",
   "execution_count": 68,
   "metadata": {},
   "outputs": [],
   "source": [
    "def update2(feat,survived,weights,lr):\n",
    "    prediction = predictions(feat,weights)\n",
    "    for i in range(6):\n",
    "        for j in range(891):\n",
    "            hx = sigmoid(prediction[j][0])\n",
    "            y = survived[j][0]\n",
    "            a = y - hx\n",
    "            x = feat[j,i]\n",
    "            gradient = x*a*lr/891\n",
    "        weights[i][0]+=gradient\n",
    "    return weights"
   ]
  }
 ],
 "metadata": {
  "kernelspec": {
   "display_name": "Python 3",
   "language": "python",
   "name": "python3"
  },
  "language_info": {
   "codemirror_mode": {
    "name": "ipython",
    "version": 3
   },
   "file_extension": ".py",
   "mimetype": "text/x-python",
   "name": "python",
   "nbconvert_exporter": "python",
   "pygments_lexer": "ipython3",
   "version": "3.7.4"
  }
 },
 "nbformat": 4,
 "nbformat_minor": 2
}
